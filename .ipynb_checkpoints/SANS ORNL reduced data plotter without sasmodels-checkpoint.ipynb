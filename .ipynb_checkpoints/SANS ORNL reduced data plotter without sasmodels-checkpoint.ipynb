{
 "cells": [
  {
   "cell_type": "code",
   "execution_count": null,
   "metadata": {},
   "outputs": [],
   "source": [
    "import numpy as np\n",
    "import pandas as pd\n",
    "import os\n",
    "import matplotlib.pyplot as plt"
   ]
  },
  {
   "cell_type": "code",
   "execution_count": null,
   "metadata": {},
   "outputs": [],
   "source": [
    "# sample meta-data\n",
    "sample_info = pd.read_csv('../data/1D/IPTS 27405 Sample Info.csv')\n",
    "\n",
    "# helpful meta-data dictionaries\n",
    "names = dict(zip(sample_info['Sample'], sample_info['Name']))\n",
    "matrix = dict(zip(sample_info['Sample'], sample_info['Matrix Polymer']))\n",
    "solvent_names = dict(zip(sample_info['Sample'], sample_info['Solvent']))\n",
    "\n",
    "# target weight percents of conjugated polymer\n",
    "target_CP = dict(zip(sample_info['Sample'], sample_info['Target CP Concentration']))\n",
    "target_matrix = dict(zip(sample_info['Sample'], sample_info['Target Matrix Concentration']))"
   ]
  }
 ],
 "metadata": {
  "kernelspec": {
   "display_name": "Python 3",
   "language": "python",
   "name": "python3"
  },
  "language_info": {
   "codemirror_mode": {
    "name": "ipython",
    "version": 3
   },
   "file_extension": ".py",
   "mimetype": "text/x-python",
   "name": "python",
   "nbconvert_exporter": "python",
   "pygments_lexer": "ipython3",
   "version": "3.9.0"
  }
 },
 "nbformat": 4,
 "nbformat_minor": 4
}
